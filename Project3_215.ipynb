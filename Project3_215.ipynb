{
 "cells": [
  {
   "cell_type": "code",
   "execution_count": 0,
   "metadata": {
    "colab": {},
    "colab_type": "code",
    "id": "KjlMDzi05GfE"
   },
   "outputs": [],
   "source": [
    "import seaborn as sns\n",
    "import os\n",
    "import pandas as pd\n",
    "import matplotlib.pyplot as plt\n",
    "from sklearn import metrics\n",
    "import csv\n",
    "import numpy as np\n",
    "from sklearn.model_selection import train_test_split\n",
    "from sklearn import datasets,linear_model, preprocessing,utils\n",
    "from sklearn.metrics import mean_squared_error,r2_score\n",
    "%matplotlib inline\n",
    "from sklearn.preprocessing import MinMaxScaler\n",
    "from matplotlib.pyplot import figure, show\n",
    "from keras.layers import Conv1D, Conv2D, MaxPooling2D \n",
    "import keras\n",
    "from keras.callbacks import ModelCheckpoint\n",
    "from keras.callbacks import EarlyStopping\n",
    "from keras.models import Sequential\n",
    "from keras.layers.core import Dense, Activation, Flatten ,Dropout\n",
    "import cv2\n",
    "from keras.preprocessing import sequence\n",
    "from keras.models import Sequential\n",
    "from keras.layers import Dense, Embedding\n",
    "from keras.callbacks import EarlyStopping\n",
    "from keras import optimizers\n",
    "from keras.optimizers import Adam\n",
    "from sklearn.preprocessing import LabelBinarizer\n",
    "import glob\n",
    "from keras.layers import concatenate\n",
    "from keras.models import Model\n",
    "from keras.utils import plot_model\n",
    "from keras.models import Model\n",
    "from keras.layers import Input\n",
    "from keras.layers import Dense\n",
    "from keras.layers import Flatten\n",
    "from keras.layers.convolutional import Conv2D\n",
    "from keras.layers.pooling import MaxPooling2D\n",
    "from keras.layers.merge import concatenate\n",
    "from IPython.display import Image"
   ]
  },
  {
   "cell_type": "code",
   "execution_count": 0,
   "metadata": {
    "colab": {
     "base_uri": "https://localhost:8080/",
     "height": 34
    },
    "colab_type": "code",
    "id": "7-NbDQyg5chH",
    "outputId": "e02c6ff4-8ad1-4199-c6a9-e3628c054c14"
   },
   "outputs": [
    {
     "name": "stdout",
     "output_type": "stream",
     "text": [
      "Drive already mounted at /content/drive; to attempt to forcibly remount, call drive.mount(\"/content/drive\", force_remount=True).\n"
     ]
    }
   ],
   "source": [
    "from google.colab import drive\n",
    "drive.mount('/content/drive')"
   ]
  },
  {
   "cell_type": "code",
   "execution_count": 0,
   "metadata": {
    "colab": {},
    "colab_type": "code",
    "id": "YkGBC77N6-Md"
   },
   "outputs": [],
   "source": [
    "new_images=[]\n",
    "for number in range(1, 536):\n",
    "    for path in glob.glob(\"/content/drive/My Drive/Houses Dataset/\" + str(number) + \"_bathroom.jpg\"):\n",
    "        if os.path.isfile(path):\n",
    "            new_images.append(path)"
   ]
  },
  {
   "cell_type": "code",
   "execution_count": 0,
   "metadata": {
    "colab": {},
    "colab_type": "code",
    "id": "CjSay0BE7GmB"
   },
   "outputs": [],
   "source": [
    "img= pd.DataFrame(new_images,columns = ['bathroom_img'])"
   ]
  },
  {
   "cell_type": "code",
   "execution_count": 0,
   "metadata": {
    "colab": {},
    "colab_type": "code",
    "id": "QfgN7VmL7IZW"
   },
   "outputs": [],
   "source": [
    "bedroom_images = []\n",
    "for number in range(1, 536):\n",
    "    for path in glob.glob(\"/content/drive/My Drive/Houses Dataset/\" + str(number) + \"_bedroom.jpg\"):\n",
    "        if os.path.isfile(path):\n",
    "            bedroom_images.append(path)"
   ]
  },
  {
   "cell_type": "code",
   "execution_count": 0,
   "metadata": {
    "colab": {},
    "colab_type": "code",
    "id": "XZV6ruVo7MSf"
   },
   "outputs": [],
   "source": [
    "img['bedroom_img']=bedroom_images"
   ]
  },
  {
   "cell_type": "code",
   "execution_count": 0,
   "metadata": {
    "colab": {},
    "colab_type": "code",
    "id": "zYBf4h8P7VDf"
   },
   "outputs": [],
   "source": [
    "frontal_images = []\n",
    "for number in range(1, 536):\n",
    "    for path in glob.glob(\"/content/drive/My Drive/Houses Dataset/\" + str(number) + \"_frontal.jpg\"):\n",
    "        if os.path.isfile(path):\n",
    "            frontal_images.append(path) "
   ]
  },
  {
   "cell_type": "code",
   "execution_count": 0,
   "metadata": {
    "colab": {},
    "colab_type": "code",
    "id": "uMGWMslS7YY9"
   },
   "outputs": [],
   "source": [
    "img['frontal_img']=frontal_images"
   ]
  },
  {
   "cell_type": "code",
   "execution_count": 0,
   "metadata": {
    "colab": {},
    "colab_type": "code",
    "id": "sEFDUM3l7cry"
   },
   "outputs": [],
   "source": [
    "kitchen_images = []\n",
    "for number in range(1, 536):\n",
    "    for path in glob.glob(\"/content/drive/My Drive/Houses Dataset/\" + str(number) + \"_kitchen.jpg\"):\n",
    "        if os.path.isfile(path):\n",
    "            kitchen_images.append(path)"
   ]
  },
  {
   "cell_type": "code",
   "execution_count": 0,
   "metadata": {
    "colab": {},
    "colab_type": "code",
    "id": "KFd_E4cm7iCQ"
   },
   "outputs": [],
   "source": [
    "img['kitchen_img']=kitchen_images"
   ]
  },
  {
   "cell_type": "code",
   "execution_count": 0,
   "metadata": {
    "colab": {},
    "colab_type": "code",
    "id": "xzGy2e337mYm"
   },
   "outputs": [],
   "source": [
    "import pandas as pd\n",
    "from sklearn.preprocessing import OneHotEncoder\n",
    "from sklearn.preprocessing import StandardScaler\n",
    "import os"
   ]
  },
  {
   "cell_type": "code",
   "execution_count": 0,
   "metadata": {
    "colab": {
     "base_uri": "https://localhost:8080/",
     "height": 74,
     "resources": {
      "http://localhost:8080/nbextensions/google.colab/files.js": {
       "data": "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",
       "headers": [
        [
         "content-type",
         "application/javascript"
        ]
       ],
       "ok": true,
       "status": 200,
       "status_text": ""
      }
     }
    },
    "colab_type": "code",
    "id": "xBdT-kaK79dB",
    "outputId": "39144de8-1c94-4e62-a71b-d4bd768155a2"
   },
   "outputs": [
    {
     "data": {
      "text/html": [
       "\n",
       "     <input type=\"file\" id=\"files-2406328f-7953-4887-8c3f-6e0f5f35753c\" name=\"files[]\" multiple disabled />\n",
       "     <output id=\"result-2406328f-7953-4887-8c3f-6e0f5f35753c\">\n",
       "      Upload widget is only available when the cell has been executed in the\n",
       "      current browser session. Please rerun this cell to enable.\n",
       "      </output>\n",
       "      <script src=\"/nbextensions/google.colab/files.js\"></script> "
      ],
      "text/plain": [
       "<IPython.core.display.HTML object>"
      ]
     },
     "metadata": {
      "tags": []
     },
     "output_type": "display_data"
    },
    {
     "name": "stdout",
     "output_type": "stream",
     "text": [
      "Saving HousesInfo.txt to HousesInfo.txt\n"
     ]
    }
   ],
   "source": [
    "from google.colab import files\n",
    "uploaded = files.upload()"
   ]
  },
  {
   "cell_type": "markdown",
   "metadata": {},
   "source": [
    "# Data-PreProcessing"
   ]
  },
  {
   "cell_type": "code",
   "execution_count": 0,
   "metadata": {
    "colab": {
     "base_uri": "https://localhost:8080/",
     "height": 34
    },
    "colab_type": "code",
    "id": "ATH39hWp8AOd",
    "outputId": "dbba2de3-8a03-4f5d-f6e0-fb87a4586e82"
   },
   "outputs": [
    {
     "data": {
      "text/plain": [
       "(535, 5)"
      ]
     },
     "execution_count": 23,
     "metadata": {
      "tags": []
     },
     "output_type": "execute_result"
    }
   ],
   "source": [
    "cols=[\"Bedrooms\",\"Bathrooms\",\"area\",\"zipcode\",\"price\"]\n",
    "\n",
    "import io\n",
    "df = pd.read_csv(io.BytesIO(uploaded['HousesInfo.txt']),sep=\" \", header=None , names=cols)\n",
    "\n",
    "df.shape"
   ]
  },
  {
   "cell_type": "markdown",
   "metadata": {},
   "source": [
    "# Removing outliers from text"
   ]
  },
  {
   "cell_type": "code",
   "execution_count": 0,
   "metadata": {
    "colab": {},
    "colab_type": "code",
    "id": "LM2LOWZP8lLA"
   },
   "outputs": [],
   "source": [
    "df=df[df['price'].between(50000,900000, inclusive=True)]"
   ]
  },
  {
   "cell_type": "code",
   "execution_count": 0,
   "metadata": {
    "colab": {
     "base_uri": "https://localhost:8080/",
     "height": 34
    },
    "colab_type": "code",
    "id": "s4Fn02E4XCoq",
    "outputId": "1ba9dc7e-ade1-456a-f572-a677dae3ea4e"
   },
   "outputs": [
    {
     "data": {
      "text/plain": [
       "(453, 5)"
      ]
     },
     "execution_count": 25,
     "metadata": {
      "tags": []
     },
     "output_type": "execute_result"
    }
   ],
   "source": [
    "df.shape"
   ]
  },
  {
   "cell_type": "code",
   "execution_count": 0,
   "metadata": {
    "colab": {
     "base_uri": "https://localhost:8080/",
     "height": 34
    },
    "colab_type": "code",
    "id": "xNjXxVl8WzCq",
    "outputId": "ab2d0ee5-e19d-4c67-fc18-d01081bf06d7"
   },
   "outputs": [
    {
     "name": "stdout",
     "output_type": "stream",
     "text": [
      "Index(['Bedrooms', 'Bathrooms', 'area', 'zipcode', 'price'], dtype='object')\n"
     ]
    }
   ],
   "source": [
    "print(df.columns)"
   ]
  },
  {
   "cell_type": "markdown",
   "metadata": {},
   "source": [
    "# Splitting and Normalizing Text data"
   ]
  },
  {
   "cell_type": "code",
   "execution_count": 0,
   "metadata": {
    "colab": {},
    "colab_type": "code",
    "id": "Y9v-KaTfW82l"
   },
   "outputs": [],
   "source": [
    "Y=df['price']"
   ]
  },
  {
   "cell_type": "code",
   "execution_count": 0,
   "metadata": {
    "colab": {},
    "colab_type": "code",
    "id": "pHr_RJ_0XWLN"
   },
   "outputs": [],
   "source": [
    "ytrain=Y[0:362]"
   ]
  },
  {
   "cell_type": "code",
   "execution_count": 0,
   "metadata": {
    "colab": {
     "base_uri": "https://localhost:8080/",
     "height": 34
    },
    "colab_type": "code",
    "id": "8zkytG4kX6D8",
    "outputId": "ff1f3255-c92d-432f-cd3c-3607743d86ff"
   },
   "outputs": [
    {
     "data": {
      "text/plain": [
       "(362,)"
      ]
     },
     "execution_count": 29,
     "metadata": {
      "tags": []
     },
     "output_type": "execute_result"
    }
   ],
   "source": [
    "ytrain.shape"
   ]
  },
  {
   "cell_type": "code",
   "execution_count": 0,
   "metadata": {
    "colab": {},
    "colab_type": "code",
    "id": "cPbr0r1GX-CR"
   },
   "outputs": [],
   "source": [
    "ytest=Y[362:453]"
   ]
  },
  {
   "cell_type": "code",
   "execution_count": 0,
   "metadata": {
    "colab": {
     "base_uri": "https://localhost:8080/",
     "height": 34
    },
    "colab_type": "code",
    "id": "HhOFa8YWXGK_",
    "outputId": "93ade321-05be-4f4c-f6a7-42db18720f0a"
   },
   "outputs": [
    {
     "data": {
      "text/plain": [
       "(91,)"
      ]
     },
     "execution_count": 31,
     "metadata": {
      "tags": []
     },
     "output_type": "execute_result"
    }
   ],
   "source": [
    "ytest.shape"
   ]
  },
  {
   "cell_type": "code",
   "execution_count": 0,
   "metadata": {
    "colab": {},
    "colab_type": "code",
    "id": "zIKwHPCHYPoe"
   },
   "outputs": [],
   "source": [
    "ytrain=np.asarray(ytrain)\n",
    "ytest=np.asarray(ytest)"
   ]
  },
  {
   "cell_type": "code",
   "execution_count": 0,
   "metadata": {
    "colab": {
     "base_uri": "https://localhost:8080/",
     "height": 34
    },
    "colab_type": "code",
    "id": "LKWNFjd-YrRz",
    "outputId": "2cfe3c95-dc2c-455b-d93e-2a25a4113420"
   },
   "outputs": [
    {
     "data": {
      "text/plain": [
       "(362,)"
      ]
     },
     "execution_count": 33,
     "metadata": {
      "tags": []
     },
     "output_type": "execute_result"
    }
   ],
   "source": [
    "ytrain.shape"
   ]
  },
  {
   "cell_type": "code",
   "execution_count": 0,
   "metadata": {
    "colab": {},
    "colab_type": "code",
    "id": "ZYrSQLs7ZAh7"
   },
   "outputs": [],
   "source": [
    "X=df.drop(columns='price')\n",
    "X=pd.get_dummies(X, columns=['zipcode'])\n",
    "from sklearn.preprocessing import MinMaxScaler\n",
    "scaler = MinMaxScaler()\n",
    "scaler.fit(X.iloc[:,0:3])\n",
    "X.iloc[:,0:3] = scaler.transform(X.iloc[:,0:3])\n",
    "X.head()\n",
    "\n",
    "#check for missing values\n",
    "from sklearn.impute import SimpleImputer \n",
    "imputer=SimpleImputer(missing_values=np.nan,strategy='mean')\n",
    "imputer=imputer.fit(X)\n",
    "X=imputer.transform(X)\n",
    "xtrain = X[0:362,:]\n",
    "xtest= X[362:453,:]"
   ]
  },
  {
   "cell_type": "code",
   "execution_count": 0,
   "metadata": {
    "colab": {
     "base_uri": "https://localhost:8080/",
     "height": 85
    },
    "colab_type": "code",
    "id": "FcfTg5zfZjRq",
    "outputId": "dfec7595-ee7a-43e3-8f1e-94a240279ea4"
   },
   "outputs": [
    {
     "name": "stdout",
     "output_type": "stream",
     "text": [
      "(362, 44)\n",
      "(91, 44)\n",
      "(362,)\n",
      "(91,)\n"
     ]
    }
   ],
   "source": [
    "print(xtrain.shape)\n",
    "print(xtest.shape)\n",
    "print(ytrain.shape)\n",
    "print(ytest.shape)"
   ]
  },
  {
   "cell_type": "markdown",
   "metadata": {},
   "source": [
    "# Removing coressponding image outliers"
   ]
  },
  {
   "cell_type": "code",
   "execution_count": 0,
   "metadata": {
    "colab": {
     "base_uri": "https://localhost:8080/",
     "height": 374
    },
    "colab_type": "code",
    "id": "mgCwmbfz-PEl",
    "outputId": "58687d2d-3750-4e65-92ef-82acbd7e4b59"
   },
   "outputs": [
    {
     "data": {
      "text/html": [
       "<div>\n",
       "<style scoped>\n",
       "    .dataframe tbody tr th:only-of-type {\n",
       "        vertical-align: middle;\n",
       "    }\n",
       "\n",
       "    .dataframe tbody tr th {\n",
       "        vertical-align: top;\n",
       "    }\n",
       "\n",
       "    .dataframe thead th {\n",
       "        text-align: right;\n",
       "    }\n",
       "</style>\n",
       "<table border=\"1\" class=\"dataframe\">\n",
       "  <thead>\n",
       "    <tr style=\"text-align: right;\">\n",
       "      <th></th>\n",
       "      <th>Bedrooms</th>\n",
       "      <th>Bathrooms</th>\n",
       "      <th>area</th>\n",
       "      <th>zipcode</th>\n",
       "      <th>price</th>\n",
       "      <th>bathroom_img</th>\n",
       "      <th>bedroom_img</th>\n",
       "      <th>frontal_img</th>\n",
       "      <th>kitchen_img</th>\n",
       "    </tr>\n",
       "  </thead>\n",
       "  <tbody>\n",
       "    <tr>\n",
       "      <th>0</th>\n",
       "      <td>4.0</td>\n",
       "      <td>4.0</td>\n",
       "      <td>4053.0</td>\n",
       "      <td>85255.0</td>\n",
       "      <td>869500.0</td>\n",
       "      <td>/content/drive/My Drive/Houses Dataset/1_bathr...</td>\n",
       "      <td>/content/drive/My Drive/Houses Dataset/1_bedro...</td>\n",
       "      <td>/content/drive/My Drive/Houses Dataset/1_front...</td>\n",
       "      <td>/content/drive/My Drive/Houses Dataset/1_kitch...</td>\n",
       "    </tr>\n",
       "    <tr>\n",
       "      <th>1</th>\n",
       "      <td>4.0</td>\n",
       "      <td>3.0</td>\n",
       "      <td>3343.0</td>\n",
       "      <td>36372.0</td>\n",
       "      <td>865200.0</td>\n",
       "      <td>/content/drive/My Drive/Houses Dataset/2_bathr...</td>\n",
       "      <td>/content/drive/My Drive/Houses Dataset/2_bedro...</td>\n",
       "      <td>/content/drive/My Drive/Houses Dataset/2_front...</td>\n",
       "      <td>/content/drive/My Drive/Houses Dataset/2_kitch...</td>\n",
       "    </tr>\n",
       "    <tr>\n",
       "      <th>2</th>\n",
       "      <td>3.0</td>\n",
       "      <td>4.0</td>\n",
       "      <td>3923.0</td>\n",
       "      <td>85266.0</td>\n",
       "      <td>889000.0</td>\n",
       "      <td>/content/drive/My Drive/Houses Dataset/3_bathr...</td>\n",
       "      <td>/content/drive/My Drive/Houses Dataset/3_bedro...</td>\n",
       "      <td>/content/drive/My Drive/Houses Dataset/3_front...</td>\n",
       "      <td>/content/drive/My Drive/Houses Dataset/3_kitch...</td>\n",
       "    </tr>\n",
       "    <tr>\n",
       "      <th>3</th>\n",
       "      <td>NaN</td>\n",
       "      <td>NaN</td>\n",
       "      <td>NaN</td>\n",
       "      <td>NaN</td>\n",
       "      <td>NaN</td>\n",
       "      <td>/content/drive/My Drive/Houses Dataset/4_bathr...</td>\n",
       "      <td>/content/drive/My Drive/Houses Dataset/4_bedro...</td>\n",
       "      <td>/content/drive/My Drive/Houses Dataset/4_front...</td>\n",
       "      <td>/content/drive/My Drive/Houses Dataset/4_kitch...</td>\n",
       "    </tr>\n",
       "    <tr>\n",
       "      <th>4</th>\n",
       "      <td>NaN</td>\n",
       "      <td>NaN</td>\n",
       "      <td>NaN</td>\n",
       "      <td>NaN</td>\n",
       "      <td>NaN</td>\n",
       "      <td>/content/drive/My Drive/Houses Dataset/5_bathr...</td>\n",
       "      <td>/content/drive/My Drive/Houses Dataset/5_bedro...</td>\n",
       "      <td>/content/drive/My Drive/Houses Dataset/5_front...</td>\n",
       "      <td>/content/drive/My Drive/Houses Dataset/5_kitch...</td>\n",
       "    </tr>\n",
       "  </tbody>\n",
       "</table>\n",
       "</div>"
      ],
      "text/plain": [
       "   Bedrooms  ...                                        kitchen_img\n",
       "0       4.0  ...  /content/drive/My Drive/Houses Dataset/1_kitch...\n",
       "1       4.0  ...  /content/drive/My Drive/Houses Dataset/2_kitch...\n",
       "2       3.0  ...  /content/drive/My Drive/Houses Dataset/3_kitch...\n",
       "3       NaN  ...  /content/drive/My Drive/Houses Dataset/4_kitch...\n",
       "4       NaN  ...  /content/drive/My Drive/Houses Dataset/5_kitch...\n",
       "\n",
       "[5 rows x 9 columns]"
      ]
     },
     "execution_count": 36,
     "metadata": {
      "tags": []
     },
     "output_type": "execute_result"
    }
   ],
   "source": [
    "dfmix=df.merge(img, how='outer', left_index= True, right_index=True)\n",
    "dfmix.head()"
   ]
  },
  {
   "cell_type": "code",
   "execution_count": 0,
   "metadata": {
    "colab": {
     "base_uri": "https://localhost:8080/",
     "height": 1000
    },
    "colab_type": "code",
    "id": "yXXiK4JO-XLC",
    "outputId": "718ccd17-9506-4736-c41c-61f316aaeda8"
   },
   "outputs": [
    {
     "data": {
      "text/html": [
       "<div>\n",
       "<style scoped>\n",
       "    .dataframe tbody tr th:only-of-type {\n",
       "        vertical-align: middle;\n",
       "    }\n",
       "\n",
       "    .dataframe tbody tr th {\n",
       "        vertical-align: top;\n",
       "    }\n",
       "\n",
       "    .dataframe thead th {\n",
       "        text-align: right;\n",
       "    }\n",
       "</style>\n",
       "<table border=\"1\" class=\"dataframe\">\n",
       "  <thead>\n",
       "    <tr style=\"text-align: right;\">\n",
       "      <th></th>\n",
       "      <th>Bedrooms</th>\n",
       "      <th>Bathrooms</th>\n",
       "      <th>area</th>\n",
       "      <th>zipcode</th>\n",
       "      <th>price</th>\n",
       "      <th>bathroom_img</th>\n",
       "      <th>bedroom_img</th>\n",
       "      <th>frontal_img</th>\n",
       "      <th>kitchen_img</th>\n",
       "    </tr>\n",
       "  </thead>\n",
       "  <tbody>\n",
       "    <tr>\n",
       "      <th>3</th>\n",
       "      <td>NaN</td>\n",
       "      <td>NaN</td>\n",
       "      <td>NaN</td>\n",
       "      <td>NaN</td>\n",
       "      <td>NaN</td>\n",
       "      <td>/content/drive/My Drive/Houses Dataset/4_bathr...</td>\n",
       "      <td>/content/drive/My Drive/Houses Dataset/4_bedro...</td>\n",
       "      <td>/content/drive/My Drive/Houses Dataset/4_front...</td>\n",
       "      <td>/content/drive/My Drive/Houses Dataset/4_kitch...</td>\n",
       "    </tr>\n",
       "    <tr>\n",
       "      <th>4</th>\n",
       "      <td>NaN</td>\n",
       "      <td>NaN</td>\n",
       "      <td>NaN</td>\n",
       "      <td>NaN</td>\n",
       "      <td>NaN</td>\n",
       "      <td>/content/drive/My Drive/Houses Dataset/5_bathr...</td>\n",
       "      <td>/content/drive/My Drive/Houses Dataset/5_bedro...</td>\n",
       "      <td>/content/drive/My Drive/Houses Dataset/5_front...</td>\n",
       "      <td>/content/drive/My Drive/Houses Dataset/5_kitch...</td>\n",
       "    </tr>\n",
       "    <tr>\n",
       "      <th>5</th>\n",
       "      <td>NaN</td>\n",
       "      <td>NaN</td>\n",
       "      <td>NaN</td>\n",
       "      <td>NaN</td>\n",
       "      <td>NaN</td>\n",
       "      <td>/content/drive/My Drive/Houses Dataset/6_bathr...</td>\n",
       "      <td>/content/drive/My Drive/Houses Dataset/6_bedro...</td>\n",
       "      <td>/content/drive/My Drive/Houses Dataset/6_front...</td>\n",
       "      <td>/content/drive/My Drive/Houses Dataset/6_kitch...</td>\n",
       "    </tr>\n",
       "    <tr>\n",
       "      <th>7</th>\n",
       "      <td>NaN</td>\n",
       "      <td>NaN</td>\n",
       "      <td>NaN</td>\n",
       "      <td>NaN</td>\n",
       "      <td>NaN</td>\n",
       "      <td>/content/drive/My Drive/Houses Dataset/8_bathr...</td>\n",
       "      <td>/content/drive/My Drive/Houses Dataset/8_bedro...</td>\n",
       "      <td>/content/drive/My Drive/Houses Dataset/8_front...</td>\n",
       "      <td>/content/drive/My Drive/Houses Dataset/8_kitch...</td>\n",
       "    </tr>\n",
       "    <tr>\n",
       "      <th>8</th>\n",
       "      <td>NaN</td>\n",
       "      <td>NaN</td>\n",
       "      <td>NaN</td>\n",
       "      <td>NaN</td>\n",
       "      <td>NaN</td>\n",
       "      <td>/content/drive/My Drive/Houses Dataset/9_bathr...</td>\n",
       "      <td>/content/drive/My Drive/Houses Dataset/9_bedro...</td>\n",
       "      <td>/content/drive/My Drive/Houses Dataset/9_front...</td>\n",
       "      <td>/content/drive/My Drive/Houses Dataset/9_kitch...</td>\n",
       "    </tr>\n",
       "    <tr>\n",
       "      <th>9</th>\n",
       "      <td>NaN</td>\n",
       "      <td>NaN</td>\n",
       "      <td>NaN</td>\n",
       "      <td>NaN</td>\n",
       "      <td>NaN</td>\n",
       "      <td>/content/drive/My Drive/Houses Dataset/10_bath...</td>\n",
       "      <td>/content/drive/My Drive/Houses Dataset/10_bedr...</td>\n",
       "      <td>/content/drive/My Drive/Houses Dataset/10_fron...</td>\n",
       "      <td>/content/drive/My Drive/Houses Dataset/10_kitc...</td>\n",
       "    </tr>\n",
       "    <tr>\n",
       "      <th>11</th>\n",
       "      <td>NaN</td>\n",
       "      <td>NaN</td>\n",
       "      <td>NaN</td>\n",
       "      <td>NaN</td>\n",
       "      <td>NaN</td>\n",
       "      <td>/content/drive/My Drive/Houses Dataset/12_bath...</td>\n",
       "      <td>/content/drive/My Drive/Houses Dataset/12_bedr...</td>\n",
       "      <td>/content/drive/My Drive/Houses Dataset/12_fron...</td>\n",
       "      <td>/content/drive/My Drive/Houses Dataset/12_kitc...</td>\n",
       "    </tr>\n",
       "    <tr>\n",
       "      <th>18</th>\n",
       "      <td>NaN</td>\n",
       "      <td>NaN</td>\n",
       "      <td>NaN</td>\n",
       "      <td>NaN</td>\n",
       "      <td>NaN</td>\n",
       "      <td>/content/drive/My Drive/Houses Dataset/19_bath...</td>\n",
       "      <td>/content/drive/My Drive/Houses Dataset/19_bedr...</td>\n",
       "      <td>/content/drive/My Drive/Houses Dataset/19_fron...</td>\n",
       "      <td>/content/drive/My Drive/Houses Dataset/19_kitc...</td>\n",
       "    </tr>\n",
       "    <tr>\n",
       "      <th>19</th>\n",
       "      <td>NaN</td>\n",
       "      <td>NaN</td>\n",
       "      <td>NaN</td>\n",
       "      <td>NaN</td>\n",
       "      <td>NaN</td>\n",
       "      <td>/content/drive/My Drive/Houses Dataset/20_bath...</td>\n",
       "      <td>/content/drive/My Drive/Houses Dataset/20_bedr...</td>\n",
       "      <td>/content/drive/My Drive/Houses Dataset/20_fron...</td>\n",
       "      <td>/content/drive/My Drive/Houses Dataset/20_kitc...</td>\n",
       "    </tr>\n",
       "    <tr>\n",
       "      <th>20</th>\n",
       "      <td>NaN</td>\n",
       "      <td>NaN</td>\n",
       "      <td>NaN</td>\n",
       "      <td>NaN</td>\n",
       "      <td>NaN</td>\n",
       "      <td>/content/drive/My Drive/Houses Dataset/21_bath...</td>\n",
       "      <td>/content/drive/My Drive/Houses Dataset/21_bedr...</td>\n",
       "      <td>/content/drive/My Drive/Houses Dataset/21_fron...</td>\n",
       "      <td>/content/drive/My Drive/Houses Dataset/21_kitc...</td>\n",
       "    </tr>\n",
       "    <tr>\n",
       "      <th>21</th>\n",
       "      <td>NaN</td>\n",
       "      <td>NaN</td>\n",
       "      <td>NaN</td>\n",
       "      <td>NaN</td>\n",
       "      <td>NaN</td>\n",
       "      <td>/content/drive/My Drive/Houses Dataset/22_bath...</td>\n",
       "      <td>/content/drive/My Drive/Houses Dataset/22_bedr...</td>\n",
       "      <td>/content/drive/My Drive/Houses Dataset/22_fron...</td>\n",
       "      <td>/content/drive/My Drive/Houses Dataset/22_kitc...</td>\n",
       "    </tr>\n",
       "    <tr>\n",
       "      <th>23</th>\n",
       "      <td>NaN</td>\n",
       "      <td>NaN</td>\n",
       "      <td>NaN</td>\n",
       "      <td>NaN</td>\n",
       "      <td>NaN</td>\n",
       "      <td>/content/drive/My Drive/Houses Dataset/24_bath...</td>\n",
       "      <td>/content/drive/My Drive/Houses Dataset/24_bedr...</td>\n",
       "      <td>/content/drive/My Drive/Houses Dataset/24_fron...</td>\n",
       "      <td>/content/drive/My Drive/Houses Dataset/24_kitc...</td>\n",
       "    </tr>\n",
       "    <tr>\n",
       "      <th>24</th>\n",
       "      <td>NaN</td>\n",
       "      <td>NaN</td>\n",
       "      <td>NaN</td>\n",
       "      <td>NaN</td>\n",
       "      <td>NaN</td>\n",
       "      <td>/content/drive/My Drive/Houses Dataset/25_bath...</td>\n",
       "      <td>/content/drive/My Drive/Houses Dataset/25_bedr...</td>\n",
       "      <td>/content/drive/My Drive/Houses Dataset/25_fron...</td>\n",
       "      <td>/content/drive/My Drive/Houses Dataset/25_kitc...</td>\n",
       "    </tr>\n",
       "    <tr>\n",
       "      <th>25</th>\n",
       "      <td>NaN</td>\n",
       "      <td>NaN</td>\n",
       "      <td>NaN</td>\n",
       "      <td>NaN</td>\n",
       "      <td>NaN</td>\n",
       "      <td>/content/drive/My Drive/Houses Dataset/26_bath...</td>\n",
       "      <td>/content/drive/My Drive/Houses Dataset/26_bedr...</td>\n",
       "      <td>/content/drive/My Drive/Houses Dataset/26_fron...</td>\n",
       "      <td>/content/drive/My Drive/Houses Dataset/26_kitc...</td>\n",
       "    </tr>\n",
       "    <tr>\n",
       "      <th>26</th>\n",
       "      <td>NaN</td>\n",
       "      <td>NaN</td>\n",
       "      <td>NaN</td>\n",
       "      <td>NaN</td>\n",
       "      <td>NaN</td>\n",
       "      <td>/content/drive/My Drive/Houses Dataset/27_bath...</td>\n",
       "      <td>/content/drive/My Drive/Houses Dataset/27_bedr...</td>\n",
       "      <td>/content/drive/My Drive/Houses Dataset/27_fron...</td>\n",
       "      <td>/content/drive/My Drive/Houses Dataset/27_kitc...</td>\n",
       "    </tr>\n",
       "    <tr>\n",
       "      <th>28</th>\n",
       "      <td>NaN</td>\n",
       "      <td>NaN</td>\n",
       "      <td>NaN</td>\n",
       "      <td>NaN</td>\n",
       "      <td>NaN</td>\n",
       "      <td>/content/drive/My Drive/Houses Dataset/29_bath...</td>\n",
       "      <td>/content/drive/My Drive/Houses Dataset/29_bedr...</td>\n",
       "      <td>/content/drive/My Drive/Houses Dataset/29_fron...</td>\n",
       "      <td>/content/drive/My Drive/Houses Dataset/29_kitc...</td>\n",
       "    </tr>\n",
       "    <tr>\n",
       "      <th>29</th>\n",
       "      <td>NaN</td>\n",
       "      <td>NaN</td>\n",
       "      <td>NaN</td>\n",
       "      <td>NaN</td>\n",
       "      <td>NaN</td>\n",
       "      <td>/content/drive/My Drive/Houses Dataset/30_bath...</td>\n",
       "      <td>/content/drive/My Drive/Houses Dataset/30_bedr...</td>\n",
       "      <td>/content/drive/My Drive/Houses Dataset/30_fron...</td>\n",
       "      <td>/content/drive/My Drive/Houses Dataset/30_kitc...</td>\n",
       "    </tr>\n",
       "    <tr>\n",
       "      <th>31</th>\n",
       "      <td>NaN</td>\n",
       "      <td>NaN</td>\n",
       "      <td>NaN</td>\n",
       "      <td>NaN</td>\n",
       "      <td>NaN</td>\n",
       "      <td>/content/drive/My Drive/Houses Dataset/32_bath...</td>\n",
       "      <td>/content/drive/My Drive/Houses Dataset/32_bedr...</td>\n",
       "      <td>/content/drive/My Drive/Houses Dataset/32_fron...</td>\n",
       "      <td>/content/drive/My Drive/Houses Dataset/32_kitc...</td>\n",
       "    </tr>\n",
       "    <tr>\n",
       "      <th>33</th>\n",
       "      <td>NaN</td>\n",
       "      <td>NaN</td>\n",
       "      <td>NaN</td>\n",
       "      <td>NaN</td>\n",
       "      <td>NaN</td>\n",
       "      <td>/content/drive/My Drive/Houses Dataset/34_bath...</td>\n",
       "      <td>/content/drive/My Drive/Houses Dataset/34_bedr...</td>\n",
       "      <td>/content/drive/My Drive/Houses Dataset/34_fron...</td>\n",
       "      <td>/content/drive/My Drive/Houses Dataset/34_kitc...</td>\n",
       "    </tr>\n",
       "    <tr>\n",
       "      <th>34</th>\n",
       "      <td>NaN</td>\n",
       "      <td>NaN</td>\n",
       "      <td>NaN</td>\n",
       "      <td>NaN</td>\n",
       "      <td>NaN</td>\n",
       "      <td>/content/drive/My Drive/Houses Dataset/35_bath...</td>\n",
       "      <td>/content/drive/My Drive/Houses Dataset/35_bedr...</td>\n",
       "      <td>/content/drive/My Drive/Houses Dataset/35_fron...</td>\n",
       "      <td>/content/drive/My Drive/Houses Dataset/35_kitc...</td>\n",
       "    </tr>\n",
       "    <tr>\n",
       "      <th>35</th>\n",
       "      <td>NaN</td>\n",
       "      <td>NaN</td>\n",
       "      <td>NaN</td>\n",
       "      <td>NaN</td>\n",
       "      <td>NaN</td>\n",
       "      <td>/content/drive/My Drive/Houses Dataset/36_bath...</td>\n",
       "      <td>/content/drive/My Drive/Houses Dataset/36_bedr...</td>\n",
       "      <td>/content/drive/My Drive/Houses Dataset/36_fron...</td>\n",
       "      <td>/content/drive/My Drive/Houses Dataset/36_kitc...</td>\n",
       "    </tr>\n",
       "    <tr>\n",
       "      <th>36</th>\n",
       "      <td>NaN</td>\n",
       "      <td>NaN</td>\n",
       "      <td>NaN</td>\n",
       "      <td>NaN</td>\n",
       "      <td>NaN</td>\n",
       "      <td>/content/drive/My Drive/Houses Dataset/37_bath...</td>\n",
       "      <td>/content/drive/My Drive/Houses Dataset/37_bedr...</td>\n",
       "      <td>/content/drive/My Drive/Houses Dataset/37_fron...</td>\n",
       "      <td>/content/drive/My Drive/Houses Dataset/37_kitc...</td>\n",
       "    </tr>\n",
       "    <tr>\n",
       "      <th>38</th>\n",
       "      <td>NaN</td>\n",
       "      <td>NaN</td>\n",
       "      <td>NaN</td>\n",
       "      <td>NaN</td>\n",
       "      <td>NaN</td>\n",
       "      <td>/content/drive/My Drive/Houses Dataset/39_bath...</td>\n",
       "      <td>/content/drive/My Drive/Houses Dataset/39_bedr...</td>\n",
       "      <td>/content/drive/My Drive/Houses Dataset/39_fron...</td>\n",
       "      <td>/content/drive/My Drive/Houses Dataset/39_kitc...</td>\n",
       "    </tr>\n",
       "    <tr>\n",
       "      <th>86</th>\n",
       "      <td>NaN</td>\n",
       "      <td>NaN</td>\n",
       "      <td>NaN</td>\n",
       "      <td>NaN</td>\n",
       "      <td>NaN</td>\n",
       "      <td>/content/drive/My Drive/Houses Dataset/87_bath...</td>\n",
       "      <td>/content/drive/My Drive/Houses Dataset/87_bedr...</td>\n",
       "      <td>/content/drive/My Drive/Houses Dataset/87_fron...</td>\n",
       "      <td>/content/drive/My Drive/Houses Dataset/87_kitc...</td>\n",
       "    </tr>\n",
       "    <tr>\n",
       "      <th>90</th>\n",
       "      <td>NaN</td>\n",
       "      <td>NaN</td>\n",
       "      <td>NaN</td>\n",
       "      <td>NaN</td>\n",
       "      <td>NaN</td>\n",
       "      <td>/content/drive/My Drive/Houses Dataset/91_bath...</td>\n",
       "      <td>/content/drive/My Drive/Houses Dataset/91_bedr...</td>\n",
       "      <td>/content/drive/My Drive/Houses Dataset/91_fron...</td>\n",
       "      <td>/content/drive/My Drive/Houses Dataset/91_kitc...</td>\n",
       "    </tr>\n",
       "    <tr>\n",
       "      <th>92</th>\n",
       "      <td>NaN</td>\n",
       "      <td>NaN</td>\n",
       "      <td>NaN</td>\n",
       "      <td>NaN</td>\n",
       "      <td>NaN</td>\n",
       "      <td>/content/drive/My Drive/Houses Dataset/93_bath...</td>\n",
       "      <td>/content/drive/My Drive/Houses Dataset/93_bedr...</td>\n",
       "      <td>/content/drive/My Drive/Houses Dataset/93_fron...</td>\n",
       "      <td>/content/drive/My Drive/Houses Dataset/93_kitc...</td>\n",
       "    </tr>\n",
       "    <tr>\n",
       "      <th>96</th>\n",
       "      <td>NaN</td>\n",
       "      <td>NaN</td>\n",
       "      <td>NaN</td>\n",
       "      <td>NaN</td>\n",
       "      <td>NaN</td>\n",
       "      <td>/content/drive/My Drive/Houses Dataset/97_bath...</td>\n",
       "      <td>/content/drive/My Drive/Houses Dataset/97_bedr...</td>\n",
       "      <td>/content/drive/My Drive/Houses Dataset/97_fron...</td>\n",
       "      <td>/content/drive/My Drive/Houses Dataset/97_kitc...</td>\n",
       "    </tr>\n",
       "    <tr>\n",
       "      <th>109</th>\n",
       "      <td>NaN</td>\n",
       "      <td>NaN</td>\n",
       "      <td>NaN</td>\n",
       "      <td>NaN</td>\n",
       "      <td>NaN</td>\n",
       "      <td>/content/drive/My Drive/Houses Dataset/110_bat...</td>\n",
       "      <td>/content/drive/My Drive/Houses Dataset/110_bed...</td>\n",
       "      <td>/content/drive/My Drive/Houses Dataset/110_fro...</td>\n",
       "      <td>/content/drive/My Drive/Houses Dataset/110_kit...</td>\n",
       "    </tr>\n",
       "    <tr>\n",
       "      <th>111</th>\n",
       "      <td>NaN</td>\n",
       "      <td>NaN</td>\n",
       "      <td>NaN</td>\n",
       "      <td>NaN</td>\n",
       "      <td>NaN</td>\n",
       "      <td>/content/drive/My Drive/Houses Dataset/112_bat...</td>\n",
       "      <td>/content/drive/My Drive/Houses Dataset/112_bed...</td>\n",
       "      <td>/content/drive/My Drive/Houses Dataset/112_fro...</td>\n",
       "      <td>/content/drive/My Drive/Houses Dataset/112_kit...</td>\n",
       "    </tr>\n",
       "    <tr>\n",
       "      <th>112</th>\n",
       "      <td>NaN</td>\n",
       "      <td>NaN</td>\n",
       "      <td>NaN</td>\n",
       "      <td>NaN</td>\n",
       "      <td>NaN</td>\n",
       "      <td>/content/drive/My Drive/Houses Dataset/113_bat...</td>\n",
       "      <td>/content/drive/My Drive/Houses Dataset/113_bed...</td>\n",
       "      <td>/content/drive/My Drive/Houses Dataset/113_fro...</td>\n",
       "      <td>/content/drive/My Drive/Houses Dataset/113_kit...</td>\n",
       "    </tr>\n",
       "    <tr>\n",
       "      <th>...</th>\n",
       "      <td>...</td>\n",
       "      <td>...</td>\n",
       "      <td>...</td>\n",
       "      <td>...</td>\n",
       "      <td>...</td>\n",
       "      <td>...</td>\n",
       "      <td>...</td>\n",
       "      <td>...</td>\n",
       "      <td>...</td>\n",
       "    </tr>\n",
       "    <tr>\n",
       "      <th>192</th>\n",
       "      <td>NaN</td>\n",
       "      <td>NaN</td>\n",
       "      <td>NaN</td>\n",
       "      <td>NaN</td>\n",
       "      <td>NaN</td>\n",
       "      <td>/content/drive/My Drive/Houses Dataset/193_bat...</td>\n",
       "      <td>/content/drive/My Drive/Houses Dataset/193_bed...</td>\n",
       "      <td>/content/drive/My Drive/Houses Dataset/193_fro...</td>\n",
       "      <td>/content/drive/My Drive/Houses Dataset/193_kit...</td>\n",
       "    </tr>\n",
       "    <tr>\n",
       "      <th>202</th>\n",
       "      <td>NaN</td>\n",
       "      <td>NaN</td>\n",
       "      <td>NaN</td>\n",
       "      <td>NaN</td>\n",
       "      <td>NaN</td>\n",
       "      <td>/content/drive/My Drive/Houses Dataset/203_bat...</td>\n",
       "      <td>/content/drive/My Drive/Houses Dataset/203_bed...</td>\n",
       "      <td>/content/drive/My Drive/Houses Dataset/203_fro...</td>\n",
       "      <td>/content/drive/My Drive/Houses Dataset/203_kit...</td>\n",
       "    </tr>\n",
       "    <tr>\n",
       "      <th>203</th>\n",
       "      <td>NaN</td>\n",
       "      <td>NaN</td>\n",
       "      <td>NaN</td>\n",
       "      <td>NaN</td>\n",
       "      <td>NaN</td>\n",
       "      <td>/content/drive/My Drive/Houses Dataset/204_bat...</td>\n",
       "      <td>/content/drive/My Drive/Houses Dataset/204_bed...</td>\n",
       "      <td>/content/drive/My Drive/Houses Dataset/204_fro...</td>\n",
       "      <td>/content/drive/My Drive/Houses Dataset/204_kit...</td>\n",
       "    </tr>\n",
       "    <tr>\n",
       "      <th>207</th>\n",
       "      <td>NaN</td>\n",
       "      <td>NaN</td>\n",
       "      <td>NaN</td>\n",
       "      <td>NaN</td>\n",
       "      <td>NaN</td>\n",
       "      <td>/content/drive/My Drive/Houses Dataset/208_bat...</td>\n",
       "      <td>/content/drive/My Drive/Houses Dataset/208_bed...</td>\n",
       "      <td>/content/drive/My Drive/Houses Dataset/208_fro...</td>\n",
       "      <td>/content/drive/My Drive/Houses Dataset/208_kit...</td>\n",
       "    </tr>\n",
       "    <tr>\n",
       "      <th>209</th>\n",
       "      <td>NaN</td>\n",
       "      <td>NaN</td>\n",
       "      <td>NaN</td>\n",
       "      <td>NaN</td>\n",
       "      <td>NaN</td>\n",
       "      <td>/content/drive/My Drive/Houses Dataset/210_bat...</td>\n",
       "      <td>/content/drive/My Drive/Houses Dataset/210_bed...</td>\n",
       "      <td>/content/drive/My Drive/Houses Dataset/210_fro...</td>\n",
       "      <td>/content/drive/My Drive/Houses Dataset/210_kit...</td>\n",
       "    </tr>\n",
       "    <tr>\n",
       "      <th>214</th>\n",
       "      <td>NaN</td>\n",
       "      <td>NaN</td>\n",
       "      <td>NaN</td>\n",
       "      <td>NaN</td>\n",
       "      <td>NaN</td>\n",
       "      <td>/content/drive/My Drive/Houses Dataset/215_bat...</td>\n",
       "      <td>/content/drive/My Drive/Houses Dataset/215_bed...</td>\n",
       "      <td>/content/drive/My Drive/Houses Dataset/215_fro...</td>\n",
       "      <td>/content/drive/My Drive/Houses Dataset/215_kit...</td>\n",
       "    </tr>\n",
       "    <tr>\n",
       "      <th>215</th>\n",
       "      <td>NaN</td>\n",
       "      <td>NaN</td>\n",
       "      <td>NaN</td>\n",
       "      <td>NaN</td>\n",
       "      <td>NaN</td>\n",
       "      <td>/content/drive/My Drive/Houses Dataset/216_bat...</td>\n",
       "      <td>/content/drive/My Drive/Houses Dataset/216_bed...</td>\n",
       "      <td>/content/drive/My Drive/Houses Dataset/216_fro...</td>\n",
       "      <td>/content/drive/My Drive/Houses Dataset/216_kit...</td>\n",
       "    </tr>\n",
       "    <tr>\n",
       "      <th>216</th>\n",
       "      <td>NaN</td>\n",
       "      <td>NaN</td>\n",
       "      <td>NaN</td>\n",
       "      <td>NaN</td>\n",
       "      <td>NaN</td>\n",
       "      <td>/content/drive/My Drive/Houses Dataset/217_bat...</td>\n",
       "      <td>/content/drive/My Drive/Houses Dataset/217_bed...</td>\n",
       "      <td>/content/drive/My Drive/Houses Dataset/217_fro...</td>\n",
       "      <td>/content/drive/My Drive/Houses Dataset/217_kit...</td>\n",
       "    </tr>\n",
       "    <tr>\n",
       "      <th>218</th>\n",
       "      <td>NaN</td>\n",
       "      <td>NaN</td>\n",
       "      <td>NaN</td>\n",
       "      <td>NaN</td>\n",
       "      <td>NaN</td>\n",
       "      <td>/content/drive/My Drive/Houses Dataset/219_bat...</td>\n",
       "      <td>/content/drive/My Drive/Houses Dataset/219_bed...</td>\n",
       "      <td>/content/drive/My Drive/Houses Dataset/219_fro...</td>\n",
       "      <td>/content/drive/My Drive/Houses Dataset/219_kit...</td>\n",
       "    </tr>\n",
       "    <tr>\n",
       "      <th>219</th>\n",
       "      <td>NaN</td>\n",
       "      <td>NaN</td>\n",
       "      <td>NaN</td>\n",
       "      <td>NaN</td>\n",
       "      <td>NaN</td>\n",
       "      <td>/content/drive/My Drive/Houses Dataset/220_bat...</td>\n",
       "      <td>/content/drive/My Drive/Houses Dataset/220_bed...</td>\n",
       "      <td>/content/drive/My Drive/Houses Dataset/220_fro...</td>\n",
       "      <td>/content/drive/My Drive/Houses Dataset/220_kit...</td>\n",
       "    </tr>\n",
       "    <tr>\n",
       "      <th>220</th>\n",
       "      <td>NaN</td>\n",
       "      <td>NaN</td>\n",
       "      <td>NaN</td>\n",
       "      <td>NaN</td>\n",
       "      <td>NaN</td>\n",
       "      <td>/content/drive/My Drive/Houses Dataset/221_bat...</td>\n",
       "      <td>/content/drive/My Drive/Houses Dataset/221_bed...</td>\n",
       "      <td>/content/drive/My Drive/Houses Dataset/221_fro...</td>\n",
       "      <td>/content/drive/My Drive/Houses Dataset/221_kit...</td>\n",
       "    </tr>\n",
       "    <tr>\n",
       "      <th>223</th>\n",
       "      <td>NaN</td>\n",
       "      <td>NaN</td>\n",
       "      <td>NaN</td>\n",
       "      <td>NaN</td>\n",
       "      <td>NaN</td>\n",
       "      <td>/content/drive/My Drive/Houses Dataset/224_bat...</td>\n",
       "      <td>/content/drive/My Drive/Houses Dataset/224_bed...</td>\n",
       "      <td>/content/drive/My Drive/Houses Dataset/224_fro...</td>\n",
       "      <td>/content/drive/My Drive/Houses Dataset/224_kit...</td>\n",
       "    </tr>\n",
       "    <tr>\n",
       "      <th>224</th>\n",
       "      <td>NaN</td>\n",
       "      <td>NaN</td>\n",
       "      <td>NaN</td>\n",
       "      <td>NaN</td>\n",
       "      <td>NaN</td>\n",
       "      <td>/content/drive/My Drive/Houses Dataset/225_bat...</td>\n",
       "      <td>/content/drive/My Drive/Houses Dataset/225_bed...</td>\n",
       "      <td>/content/drive/My Drive/Houses Dataset/225_fro...</td>\n",
       "      <td>/content/drive/My Drive/Houses Dataset/225_kit...</td>\n",
       "    </tr>\n",
       "    <tr>\n",
       "      <th>226</th>\n",
       "      <td>NaN</td>\n",
       "      <td>NaN</td>\n",
       "      <td>NaN</td>\n",
       "      <td>NaN</td>\n",
       "      <td>NaN</td>\n",
       "      <td>/content/drive/My Drive/Houses Dataset/227_bat...</td>\n",
       "      <td>/content/drive/My Drive/Houses Dataset/227_bed...</td>\n",
       "      <td>/content/drive/My Drive/Houses Dataset/227_fro...</td>\n",
       "      <td>/content/drive/My Drive/Houses Dataset/227_kit...</td>\n",
       "    </tr>\n",
       "    <tr>\n",
       "      <th>255</th>\n",
       "      <td>NaN</td>\n",
       "      <td>NaN</td>\n",
       "      <td>NaN</td>\n",
       "      <td>NaN</td>\n",
       "      <td>NaN</td>\n",
       "      <td>/content/drive/My Drive/Houses Dataset/256_bat...</td>\n",
       "      <td>/content/drive/My Drive/Houses Dataset/256_bed...</td>\n",
       "      <td>/content/drive/My Drive/Houses Dataset/256_fro...</td>\n",
       "      <td>/content/drive/My Drive/Houses Dataset/256_kit...</td>\n",
       "    </tr>\n",
       "    <tr>\n",
       "      <th>256</th>\n",
       "      <td>NaN</td>\n",
       "      <td>NaN</td>\n",
       "      <td>NaN</td>\n",
       "      <td>NaN</td>\n",
       "      <td>NaN</td>\n",
       "      <td>/content/drive/My Drive/Houses Dataset/257_bat...</td>\n",
       "      <td>/content/drive/My Drive/Houses Dataset/257_bed...</td>\n",
       "      <td>/content/drive/My Drive/Houses Dataset/257_fro...</td>\n",
       "      <td>/content/drive/My Drive/Houses Dataset/257_kit...</td>\n",
       "    </tr>\n",
       "    <tr>\n",
       "      <th>260</th>\n",
       "      <td>NaN</td>\n",
       "      <td>NaN</td>\n",
       "      <td>NaN</td>\n",
       "      <td>NaN</td>\n",
       "      <td>NaN</td>\n",
       "      <td>/content/drive/My Drive/Houses Dataset/261_bat...</td>\n",
       "      <td>/content/drive/My Drive/Houses Dataset/261_bed...</td>\n",
       "      <td>/content/drive/My Drive/Houses Dataset/261_fro...</td>\n",
       "      <td>/content/drive/My Drive/Houses Dataset/261_kit...</td>\n",
       "    </tr>\n",
       "    <tr>\n",
       "      <th>261</th>\n",
       "      <td>NaN</td>\n",
       "      <td>NaN</td>\n",
       "      <td>NaN</td>\n",
       "      <td>NaN</td>\n",
       "      <td>NaN</td>\n",
       "      <td>/content/drive/My Drive/Houses Dataset/262_bat...</td>\n",
       "      <td>/content/drive/My Drive/Houses Dataset/262_bed...</td>\n",
       "      <td>/content/drive/My Drive/Houses Dataset/262_fro...</td>\n",
       "      <td>/content/drive/My Drive/Houses Dataset/262_kit...</td>\n",
       "    </tr>\n",
       "    <tr>\n",
       "      <th>266</th>\n",
       "      <td>NaN</td>\n",
       "      <td>NaN</td>\n",
       "      <td>NaN</td>\n",
       "      <td>NaN</td>\n",
       "      <td>NaN</td>\n",
       "      <td>/content/drive/My Drive/Houses Dataset/267_bat...</td>\n",
       "      <td>/content/drive/My Drive/Houses Dataset/267_bed...</td>\n",
       "      <td>/content/drive/My Drive/Houses Dataset/267_fro...</td>\n",
       "      <td>/content/drive/My Drive/Houses Dataset/267_kit...</td>\n",
       "    </tr>\n",
       "    <tr>\n",
       "      <th>268</th>\n",
       "      <td>NaN</td>\n",
       "      <td>NaN</td>\n",
       "      <td>NaN</td>\n",
       "      <td>NaN</td>\n",
       "      <td>NaN</td>\n",
       "      <td>/content/drive/My Drive/Houses Dataset/269_bat...</td>\n",
       "      <td>/content/drive/My Drive/Houses Dataset/269_bed...</td>\n",
       "      <td>/content/drive/My Drive/Houses Dataset/269_fro...</td>\n",
       "      <td>/content/drive/My Drive/Houses Dataset/269_kit...</td>\n",
       "    </tr>\n",
       "    <tr>\n",
       "      <th>270</th>\n",
       "      <td>NaN</td>\n",
       "      <td>NaN</td>\n",
       "      <td>NaN</td>\n",
       "      <td>NaN</td>\n",
       "      <td>NaN</td>\n",
       "      <td>/content/drive/My Drive/Houses Dataset/271_bat...</td>\n",
       "      <td>/content/drive/My Drive/Houses Dataset/271_bed...</td>\n",
       "      <td>/content/drive/My Drive/Houses Dataset/271_fro...</td>\n",
       "      <td>/content/drive/My Drive/Houses Dataset/271_kit...</td>\n",
       "    </tr>\n",
       "    <tr>\n",
       "      <th>289</th>\n",
       "      <td>NaN</td>\n",
       "      <td>NaN</td>\n",
       "      <td>NaN</td>\n",
       "      <td>NaN</td>\n",
       "      <td>NaN</td>\n",
       "      <td>/content/drive/My Drive/Houses Dataset/290_bat...</td>\n",
       "      <td>/content/drive/My Drive/Houses Dataset/290_bed...</td>\n",
       "      <td>/content/drive/My Drive/Houses Dataset/290_fro...</td>\n",
       "      <td>/content/drive/My Drive/Houses Dataset/290_kit...</td>\n",
       "    </tr>\n",
       "    <tr>\n",
       "      <th>388</th>\n",
       "      <td>NaN</td>\n",
       "      <td>NaN</td>\n",
       "      <td>NaN</td>\n",
       "      <td>NaN</td>\n",
       "      <td>NaN</td>\n",
       "      <td>/content/drive/My Drive/Houses Dataset/389_bat...</td>\n",
       "      <td>/content/drive/My Drive/Houses Dataset/389_bed...</td>\n",
       "      <td>/content/drive/My Drive/Houses Dataset/389_fro...</td>\n",
       "      <td>/content/drive/My Drive/Houses Dataset/389_kit...</td>\n",
       "    </tr>\n",
       "    <tr>\n",
       "      <th>395</th>\n",
       "      <td>NaN</td>\n",
       "      <td>NaN</td>\n",
       "      <td>NaN</td>\n",
       "      <td>NaN</td>\n",
       "      <td>NaN</td>\n",
       "      <td>/content/drive/My Drive/Houses Dataset/396_bat...</td>\n",
       "      <td>/content/drive/My Drive/Houses Dataset/396_bed...</td>\n",
       "      <td>/content/drive/My Drive/Houses Dataset/396_fro...</td>\n",
       "      <td>/content/drive/My Drive/Houses Dataset/396_kit...</td>\n",
       "    </tr>\n",
       "    <tr>\n",
       "      <th>415</th>\n",
       "      <td>NaN</td>\n",
       "      <td>NaN</td>\n",
       "      <td>NaN</td>\n",
       "      <td>NaN</td>\n",
       "      <td>NaN</td>\n",
       "      <td>/content/drive/My Drive/Houses Dataset/416_bat...</td>\n",
       "      <td>/content/drive/My Drive/Houses Dataset/416_bed...</td>\n",
       "      <td>/content/drive/My Drive/Houses Dataset/416_fro...</td>\n",
       "      <td>/content/drive/My Drive/Houses Dataset/416_kit...</td>\n",
       "    </tr>\n",
       "    <tr>\n",
       "      <th>421</th>\n",
       "      <td>NaN</td>\n",
       "      <td>NaN</td>\n",
       "      <td>NaN</td>\n",
       "      <td>NaN</td>\n",
       "      <td>NaN</td>\n",
       "      <td>/content/drive/My Drive/Houses Dataset/422_bat...</td>\n",
       "      <td>/content/drive/My Drive/Houses Dataset/422_bed...</td>\n",
       "      <td>/content/drive/My Drive/Houses Dataset/422_fro...</td>\n",
       "      <td>/content/drive/My Drive/Houses Dataset/422_kit...</td>\n",
       "    </tr>\n",
       "    <tr>\n",
       "      <th>472</th>\n",
       "      <td>NaN</td>\n",
       "      <td>NaN</td>\n",
       "      <td>NaN</td>\n",
       "      <td>NaN</td>\n",
       "      <td>NaN</td>\n",
       "      <td>/content/drive/My Drive/Houses Dataset/473_bat...</td>\n",
       "      <td>/content/drive/My Drive/Houses Dataset/473_bed...</td>\n",
       "      <td>/content/drive/My Drive/Houses Dataset/473_fro...</td>\n",
       "      <td>/content/drive/My Drive/Houses Dataset/473_kit...</td>\n",
       "    </tr>\n",
       "    <tr>\n",
       "      <th>476</th>\n",
       "      <td>NaN</td>\n",
       "      <td>NaN</td>\n",
       "      <td>NaN</td>\n",
       "      <td>NaN</td>\n",
       "      <td>NaN</td>\n",
       "      <td>/content/drive/My Drive/Houses Dataset/477_bat...</td>\n",
       "      <td>/content/drive/My Drive/Houses Dataset/477_bed...</td>\n",
       "      <td>/content/drive/My Drive/Houses Dataset/477_fro...</td>\n",
       "      <td>/content/drive/My Drive/Houses Dataset/477_kit...</td>\n",
       "    </tr>\n",
       "    <tr>\n",
       "      <th>485</th>\n",
       "      <td>NaN</td>\n",
       "      <td>NaN</td>\n",
       "      <td>NaN</td>\n",
       "      <td>NaN</td>\n",
       "      <td>NaN</td>\n",
       "      <td>/content/drive/My Drive/Houses Dataset/486_bat...</td>\n",
       "      <td>/content/drive/My Drive/Houses Dataset/486_bed...</td>\n",
       "      <td>/content/drive/My Drive/Houses Dataset/486_fro...</td>\n",
       "      <td>/content/drive/My Drive/Houses Dataset/486_kit...</td>\n",
       "    </tr>\n",
       "    <tr>\n",
       "      <th>499</th>\n",
       "      <td>NaN</td>\n",
       "      <td>NaN</td>\n",
       "      <td>NaN</td>\n",
       "      <td>NaN</td>\n",
       "      <td>NaN</td>\n",
       "      <td>/content/drive/My Drive/Houses Dataset/500_bat...</td>\n",
       "      <td>/content/drive/My Drive/Houses Dataset/500_bed...</td>\n",
       "      <td>/content/drive/My Drive/Houses Dataset/500_fro...</td>\n",
       "      <td>/content/drive/My Drive/Houses Dataset/500_kit...</td>\n",
       "    </tr>\n",
       "  </tbody>\n",
       "</table>\n",
       "<p>82 rows × 9 columns</p>\n",
       "</div>"
      ],
      "text/plain": [
       "     Bedrooms  ...                                        kitchen_img\n",
       "3         NaN  ...  /content/drive/My Drive/Houses Dataset/4_kitch...\n",
       "4         NaN  ...  /content/drive/My Drive/Houses Dataset/5_kitch...\n",
       "5         NaN  ...  /content/drive/My Drive/Houses Dataset/6_kitch...\n",
       "7         NaN  ...  /content/drive/My Drive/Houses Dataset/8_kitch...\n",
       "8         NaN  ...  /content/drive/My Drive/Houses Dataset/9_kitch...\n",
       "9         NaN  ...  /content/drive/My Drive/Houses Dataset/10_kitc...\n",
       "11        NaN  ...  /content/drive/My Drive/Houses Dataset/12_kitc...\n",
       "18        NaN  ...  /content/drive/My Drive/Houses Dataset/19_kitc...\n",
       "19        NaN  ...  /content/drive/My Drive/Houses Dataset/20_kitc...\n",
       "20        NaN  ...  /content/drive/My Drive/Houses Dataset/21_kitc...\n",
       "21        NaN  ...  /content/drive/My Drive/Houses Dataset/22_kitc...\n",
       "23        NaN  ...  /content/drive/My Drive/Houses Dataset/24_kitc...\n",
       "24        NaN  ...  /content/drive/My Drive/Houses Dataset/25_kitc...\n",
       "25        NaN  ...  /content/drive/My Drive/Houses Dataset/26_kitc...\n",
       "26        NaN  ...  /content/drive/My Drive/Houses Dataset/27_kitc...\n",
       "28        NaN  ...  /content/drive/My Drive/Houses Dataset/29_kitc...\n",
       "29        NaN  ...  /content/drive/My Drive/Houses Dataset/30_kitc...\n",
       "31        NaN  ...  /content/drive/My Drive/Houses Dataset/32_kitc...\n",
       "33        NaN  ...  /content/drive/My Drive/Houses Dataset/34_kitc...\n",
       "34        NaN  ...  /content/drive/My Drive/Houses Dataset/35_kitc...\n",
       "35        NaN  ...  /content/drive/My Drive/Houses Dataset/36_kitc...\n",
       "36        NaN  ...  /content/drive/My Drive/Houses Dataset/37_kitc...\n",
       "38        NaN  ...  /content/drive/My Drive/Houses Dataset/39_kitc...\n",
       "86        NaN  ...  /content/drive/My Drive/Houses Dataset/87_kitc...\n",
       "90        NaN  ...  /content/drive/My Drive/Houses Dataset/91_kitc...\n",
       "92        NaN  ...  /content/drive/My Drive/Houses Dataset/93_kitc...\n",
       "96        NaN  ...  /content/drive/My Drive/Houses Dataset/97_kitc...\n",
       "109       NaN  ...  /content/drive/My Drive/Houses Dataset/110_kit...\n",
       "111       NaN  ...  /content/drive/My Drive/Houses Dataset/112_kit...\n",
       "112       NaN  ...  /content/drive/My Drive/Houses Dataset/113_kit...\n",
       "..        ...  ...                                                ...\n",
       "192       NaN  ...  /content/drive/My Drive/Houses Dataset/193_kit...\n",
       "202       NaN  ...  /content/drive/My Drive/Houses Dataset/203_kit...\n",
       "203       NaN  ...  /content/drive/My Drive/Houses Dataset/204_kit...\n",
       "207       NaN  ...  /content/drive/My Drive/Houses Dataset/208_kit...\n",
       "209       NaN  ...  /content/drive/My Drive/Houses Dataset/210_kit...\n",
       "214       NaN  ...  /content/drive/My Drive/Houses Dataset/215_kit...\n",
       "215       NaN  ...  /content/drive/My Drive/Houses Dataset/216_kit...\n",
       "216       NaN  ...  /content/drive/My Drive/Houses Dataset/217_kit...\n",
       "218       NaN  ...  /content/drive/My Drive/Houses Dataset/219_kit...\n",
       "219       NaN  ...  /content/drive/My Drive/Houses Dataset/220_kit...\n",
       "220       NaN  ...  /content/drive/My Drive/Houses Dataset/221_kit...\n",
       "223       NaN  ...  /content/drive/My Drive/Houses Dataset/224_kit...\n",
       "224       NaN  ...  /content/drive/My Drive/Houses Dataset/225_kit...\n",
       "226       NaN  ...  /content/drive/My Drive/Houses Dataset/227_kit...\n",
       "255       NaN  ...  /content/drive/My Drive/Houses Dataset/256_kit...\n",
       "256       NaN  ...  /content/drive/My Drive/Houses Dataset/257_kit...\n",
       "260       NaN  ...  /content/drive/My Drive/Houses Dataset/261_kit...\n",
       "261       NaN  ...  /content/drive/My Drive/Houses Dataset/262_kit...\n",
       "266       NaN  ...  /content/drive/My Drive/Houses Dataset/267_kit...\n",
       "268       NaN  ...  /content/drive/My Drive/Houses Dataset/269_kit...\n",
       "270       NaN  ...  /content/drive/My Drive/Houses Dataset/271_kit...\n",
       "289       NaN  ...  /content/drive/My Drive/Houses Dataset/290_kit...\n",
       "388       NaN  ...  /content/drive/My Drive/Houses Dataset/389_kit...\n",
       "395       NaN  ...  /content/drive/My Drive/Houses Dataset/396_kit...\n",
       "415       NaN  ...  /content/drive/My Drive/Houses Dataset/416_kit...\n",
       "421       NaN  ...  /content/drive/My Drive/Houses Dataset/422_kit...\n",
       "472       NaN  ...  /content/drive/My Drive/Houses Dataset/473_kit...\n",
       "476       NaN  ...  /content/drive/My Drive/Houses Dataset/477_kit...\n",
       "485       NaN  ...  /content/drive/My Drive/Houses Dataset/486_kit...\n",
       "499       NaN  ...  /content/drive/My Drive/Houses Dataset/500_kit...\n",
       "\n",
       "[82 rows x 9 columns]"
      ]
     },
     "execution_count": 37,
     "metadata": {
      "tags": []
     },
     "output_type": "execute_result"
    }
   ],
   "source": [
    "dfmix[dfmix.isnull().any(axis=1)]"
   ]
  },
  {
   "cell_type": "code",
   "execution_count": 0,
   "metadata": {
    "colab": {},
    "colab_type": "code",
    "id": "acemzziO-ka5"
   },
   "outputs": [],
   "source": [
    "dfmix=dfmix[np.isfinite(dfmix['Bathrooms'])]"
   ]
  },
  {
   "cell_type": "code",
   "execution_count": 0,
   "metadata": {
    "colab": {},
    "colab_type": "code",
    "id": "YraRcLPK_GTV"
   },
   "outputs": [],
   "source": [
    "finaldfmix=dfmix[['bathroom_img','bedroom_img','frontal_img','kitchen_img']]"
   ]
  },
  {
   "cell_type": "code",
   "execution_count": 0,
   "metadata": {
    "colab": {
     "base_uri": "https://localhost:8080/",
     "height": 34
    },
    "colab_type": "code",
    "id": "afnFXaVh_Ld0",
    "outputId": "d87ca7ff-9183-4cee-f08e-74f6a5d57a41"
   },
   "outputs": [
    {
     "data": {
      "text/plain": [
       "(453, 4)"
      ]
     },
     "execution_count": 40,
     "metadata": {
      "tags": []
     },
     "output_type": "execute_result"
    }
   ],
   "source": [
    "finaldfmix.shape"
   ]
  },
  {
   "cell_type": "code",
   "execution_count": 0,
   "metadata": {
    "colab": {},
    "colab_type": "code",
    "id": "qF4D2bUD_jPE"
   },
   "outputs": [],
   "source": [
    "images_output=[]\n",
    "for row_index,row in finaldfmix.iterrows():\n",
    "            inputImages=[]\n",
    "            outputImage = np.zeros((128, 128, 3), dtype=\"uint8\")\n",
    "            image_temp1 = cv2.imread(row.bathroom_img)\n",
    "            image1 = cv2.resize(image_temp1, (64 , 64))\n",
    "            \n",
    "            image_temp2 = cv2.imread(row.bedroom_img)\n",
    "            image2 = cv2.resize(image_temp2, (64 , 64))\n",
    "            \n",
    "            image_temp3 = cv2.imread(row.frontal_img)\n",
    "            image3 = cv2.resize(image_temp3, (64 , 64))\n",
    "            \n",
    "            image_temp4 = cv2.imread(row.kitchen_img)\n",
    "            image4 = cv2.resize(image_temp4, (64 , 64))\n",
    "            \n",
    "            inputImages.append(image1)\n",
    "            inputImages.append(image2)\n",
    "            inputImages.append(image3)\n",
    "            inputImages.append(image4)\n",
    "            \n",
    "            outputImage[0:64, 0:64] = inputImages[0]\n",
    "            outputImage[0:64, 64:128] = inputImages[1]\n",
    "            outputImage[64:128, 64:128] = inputImages[2]\n",
    "            outputImage[64:128, 0:64] = inputImages[3]\n",
    "            \n",
    "        \n",
    "            images_output.append(outputImage)"
   ]
  },
  {
   "cell_type": "code",
   "execution_count": 0,
   "metadata": {
    "colab": {},
    "colab_type": "code",
    "id": "qrPtqaF4Cikx"
   },
   "outputs": [],
   "source": [
    "img_arr=np.asarray(images_output)"
   ]
  },
  {
   "cell_type": "code",
   "execution_count": 0,
   "metadata": {
    "colab": {
     "base_uri": "https://localhost:8080/",
     "height": 34
    },
    "colab_type": "code",
    "id": "4U6pJdR9CjYh",
    "outputId": "39e0beb0-59dc-408d-d5aa-1d078b5c2efe"
   },
   "outputs": [
    {
     "data": {
      "text/plain": [
       "(453, 128, 128, 3)"
      ]
     },
     "execution_count": 46,
     "metadata": {
      "tags": []
     },
     "output_type": "execute_result"
    }
   ],
   "source": [
    "img_arr.shape"
   ]
  },
  {
   "cell_type": "code",
   "execution_count": 0,
   "metadata": {
    "colab": {},
    "colab_type": "code",
    "id": "U8Vcf20HXAZv"
   },
   "outputs": [],
   "source": [
    "conxtrain=img_arr[0:362,:,:,:]"
   ]
  },
  {
   "cell_type": "code",
   "execution_count": 0,
   "metadata": {
    "colab": {
     "base_uri": "https://localhost:8080/",
     "height": 34
    },
    "colab_type": "code",
    "id": "-EPtoq0JXs7G",
    "outputId": "58fea005-5077-44b4-9871-bd0bf377248a"
   },
   "outputs": [
    {
     "data": {
      "text/plain": [
       "(362, 128, 128, 3)"
      ]
     },
     "execution_count": 50,
     "metadata": {
      "tags": []
     },
     "output_type": "execute_result"
    }
   ],
   "source": [
    "conxtrain.shape"
   ]
  },
  {
   "cell_type": "code",
   "execution_count": 0,
   "metadata": {
    "colab": {},
    "colab_type": "code",
    "id": "0wPsBCJHX0tJ"
   },
   "outputs": [],
   "source": [
    "conxtest=img_arr[362:453,:,:,:]"
   ]
  },
  {
   "cell_type": "code",
   "execution_count": 0,
   "metadata": {
    "colab": {
     "base_uri": "https://localhost:8080/",
     "height": 34
    },
    "colab_type": "code",
    "id": "h5coxOx5X9fM",
    "outputId": "8f7d8acf-b793-4e0b-9f9e-eff1e2df8040"
   },
   "outputs": [
    {
     "data": {
      "text/plain": [
       "(91, 128, 128, 3)"
      ]
     },
     "execution_count": 52,
     "metadata": {
      "tags": []
     },
     "output_type": "execute_result"
    }
   ],
   "source": [
    "conxtest.shape"
   ]
  },
  {
   "cell_type": "markdown",
   "metadata": {},
   "source": [
    "# Keras Functional API."
   ]
  },
  {
   "cell_type": "code",
   "execution_count": 0,
   "metadata": {
    "colab": {
     "base_uri": "https://localhost:8080/",
     "height": 139
    },
    "colab_type": "code",
    "id": "kcl79EfcbUhZ",
    "outputId": "6e80c2c3-5066-4e29-f06e-41fdb1771817"
   },
   "outputs": [
    {
     "name": "stdout",
     "output_type": "stream",
     "text": [
      "WARNING:tensorflow:From /usr/local/lib/python3.6/dist-packages/keras/backend/tensorflow_backend.py:66: The name tf.get_default_graph is deprecated. Please use tf.compat.v1.get_default_graph instead.\n",
      "\n",
      "WARNING:tensorflow:From /usr/local/lib/python3.6/dist-packages/keras/backend/tensorflow_backend.py:541: The name tf.placeholder is deprecated. Please use tf.compat.v1.placeholder instead.\n",
      "\n",
      "WARNING:tensorflow:From /usr/local/lib/python3.6/dist-packages/keras/backend/tensorflow_backend.py:4432: The name tf.random_uniform is deprecated. Please use tf.random.uniform instead.\n",
      "\n"
     ]
    }
   ],
   "source": [
    "from keras.models import Model\n",
    "from keras.layers import Input\n",
    "from keras.layers import Dense\n",
    "\n",
    "from keras.utils import plot_model\n",
    "\n",
    "visible = Input(shape=(44,))\n",
    "\n",
    "hidden1 = Dense(10, activation='relu')(visible)\n",
    "hidden2 = Dense(20, activation='relu')(hidden1)\n",
    "hidden3 = Dense(10, activation='relu')(hidden2)\n",
    "output = Dense(1)(hidden3)"
   ]
  },
  {
   "cell_type": "code",
   "execution_count": 0,
   "metadata": {
    "colab": {
     "base_uri": "https://localhost:8080/",
     "height": 71
    },
    "colab_type": "code",
    "id": "-QpbyPw5elGO",
    "outputId": "bb95e820-d65a-490c-a504-c9eb05f60105"
   },
   "outputs": [
    {
     "name": "stdout",
     "output_type": "stream",
     "text": [
      "WARNING:tensorflow:From /usr/local/lib/python3.6/dist-packages/keras/backend/tensorflow_backend.py:4267: The name tf.nn.max_pool is deprecated. Please use tf.nn.max_pool2d instead.\n",
      "\n"
     ]
    }
   ],
   "source": [
    "# Convolutional Neural Network\n",
    "from keras.utils import plot_model\n",
    "from keras.models import Model\n",
    "from keras.layers import Input\n",
    "from keras.layers import Dense\n",
    "from keras.layers import Flatten\n",
    "from keras.layers.convolutional import Conv2D\n",
    "from keras.layers.pooling import MaxPooling2D\n",
    "\n",
    "\n",
    "visible1 = Input(shape=(128,128,3))\n",
    "\n",
    "conv1 = Conv2D(64, kernel_size=4, activation='relu')(visible1)\n",
    "pool1 = MaxPooling2D(pool_size=(2, 2))(conv1)\n",
    "conv2 = Conv2D(32, kernel_size=4, activation='relu')(pool1)\n",
    "pool2 = MaxPooling2D(pool_size=(2, 2))(conv2)\n",
    "flat = Flatten()(pool2)"
   ]
  },
  {
   "cell_type": "code",
   "execution_count": 0,
   "metadata": {
    "colab": {
     "base_uri": "https://localhost:8080/",
     "height": 1000
    },
    "colab_type": "code",
    "id": "QTGMzeO2exi8",
    "outputId": "2e8bd83a-1e30-4444-f5c1-aa5b6a28ae9e"
   },
   "outputs": [
    {
     "name": "stdout",
     "output_type": "stream",
     "text": [
      "Model: \"model_1\"\n",
      "__________________________________________________________________________________________________\n",
      "Layer (type)                    Output Shape         Param #     Connected to                     \n",
      "==================================================================================================\n",
      "input_2 (InputLayer)            (None, 128, 128, 3)  0                                            \n",
      "__________________________________________________________________________________________________\n",
      "conv2d_1 (Conv2D)               (None, 125, 125, 64) 3136        input_2[0][0]                    \n",
      "__________________________________________________________________________________________________\n",
      "input_1 (InputLayer)            (None, 44)           0                                            \n",
      "__________________________________________________________________________________________________\n",
      "max_pooling2d_1 (MaxPooling2D)  (None, 62, 62, 64)   0           conv2d_1[0][0]                   \n",
      "__________________________________________________________________________________________________\n",
      "dense_1 (Dense)                 (None, 10)           450         input_1[0][0]                    \n",
      "__________________________________________________________________________________________________\n",
      "conv2d_2 (Conv2D)               (None, 59, 59, 32)   32800       max_pooling2d_1[0][0]            \n",
      "__________________________________________________________________________________________________\n",
      "dense_2 (Dense)                 (None, 20)           220         dense_1[0][0]                    \n",
      "__________________________________________________________________________________________________\n",
      "max_pooling2d_2 (MaxPooling2D)  (None, 29, 29, 32)   0           conv2d_2[0][0]                   \n",
      "__________________________________________________________________________________________________\n",
      "dense_3 (Dense)                 (None, 10)           210         dense_2[0][0]                    \n",
      "__________________________________________________________________________________________________\n",
      "flatten_1 (Flatten)             (None, 26912)        0           max_pooling2d_2[0][0]            \n",
      "__________________________________________________________________________________________________\n",
      "dense_4 (Dense)                 (None, 1)            11          dense_3[0][0]                    \n",
      "__________________________________________________________________________________________________\n",
      "concatenate_1 (Concatenate)     (None, 26913)        0           flatten_1[0][0]                  \n",
      "                                                                 dense_4[0][0]                    \n",
      "__________________________________________________________________________________________________\n",
      "dense_5 (Dense)                 (None, 10)           269140      concatenate_1[0][0]              \n",
      "__________________________________________________________________________________________________\n",
      "dense_6 (Dense)                 (None, 1)            11          dense_5[0][0]                    \n",
      "==================================================================================================\n",
      "Total params: 305,978\n",
      "Trainable params: 305,978\n",
      "Non-trainable params: 0\n",
      "__________________________________________________________________________________________________\n",
      "None\n"
     ]
    },
    {
     "data": {
      "image/png": "[encoded data removed]",
      "text/plain": [
       "<IPython.core.display.Image object>"
      ]
     },
     "execution_count": 55,
     "metadata": {
      "tags": []
     },
     "output_type": "execute_result"
    }
   ],
   "source": [
    "merge = concatenate([flat, output])\n",
    "hidden1 = Dense(10, activation='relu')(merge)\n",
    "output1 = Dense(1, activation='linear')(hidden1)\n",
    "model = Model(inputs=[visible,visible1], outputs=output1)\n",
    "\n",
    "# summarize layers\n",
    "print(model.summary())\n",
    "# plot graph\n",
    "plot_model(model, to_file='shared_input_layer.png')"
   ]
  },
  {
   "cell_type": "code",
   "execution_count": 0,
   "metadata": {
    "colab": {
     "base_uri": "https://localhost:8080/",
     "height": 71
    },
    "colab_type": "code",
    "id": "j7YdLWCUfLZJ",
    "outputId": "a69ec6f9-ee8f-4c6e-9bd8-2a9642cfb02b"
   },
   "outputs": [
    {
     "name": "stdout",
     "output_type": "stream",
     "text": [
      "WARNING:tensorflow:From /usr/local/lib/python3.6/dist-packages/keras/optimizers.py:793: The name tf.train.Optimizer is deprecated. Please use tf.compat.v1.train.Optimizer instead.\n",
      "\n"
     ]
    }
   ],
   "source": [
    "from tensorflow.keras.callbacks import EarlyStopping\n",
    "model.compile(loss='mean_squared_error', optimizer='adam', metrics = ['accuracy'])\n",
    "monitor = EarlyStopping(monitor='val_loss', min_delta=1e-3, patience=5, verbose=1, mode='auto')"
   ]
  },
  {
   "cell_type": "code",
   "execution_count": 0,
   "metadata": {
    "colab": {
     "base_uri": "https://localhost:8080/",
     "height": 564
    },
    "colab_type": "code",
    "id": "U6zxdvPRfRSN",
    "outputId": "059d066f-1021-40c8-e780-282a41fbbac2"
   },
   "outputs": [
    {
     "name": "stdout",
     "output_type": "stream",
     "text": [
      "WARNING:tensorflow:From /usr/local/lib/python3.6/dist-packages/keras/backend/tensorflow_backend.py:1033: The name tf.assign_add is deprecated. Please use tf.compat.v1.assign_add instead.\n",
      "\n",
      "WARNING:tensorflow:From /usr/local/lib/python3.6/dist-packages/keras/backend/tensorflow_backend.py:1020: The name tf.assign is deprecated. Please use tf.compat.v1.assign instead.\n",
      "\n",
      "WARNING:tensorflow:From /usr/local/lib/python3.6/dist-packages/keras/backend/tensorflow_backend.py:3005: The name tf.Session is deprecated. Please use tf.compat.v1.Session instead.\n",
      "\n",
      "Train on 362 samples, validate on 91 samples\n",
      "Epoch 1/100\n",
      "WARNING:tensorflow:From /usr/local/lib/python3.6/dist-packages/keras/backend/tensorflow_backend.py:190: The name tf.get_default_session is deprecated. Please use tf.compat.v1.get_default_session instead.\n",
      "\n",
      "WARNING:tensorflow:From /usr/local/lib/python3.6/dist-packages/keras/backend/tensorflow_backend.py:197: The name tf.ConfigProto is deprecated. Please use tf.compat.v1.ConfigProto instead.\n",
      "\n",
      "WARNING:tensorflow:From /usr/local/lib/python3.6/dist-packages/keras/backend/tensorflow_backend.py:207: The name tf.global_variables is deprecated. Please use tf.compat.v1.global_variables instead.\n",
      "\n",
      "WARNING:tensorflow:From /usr/local/lib/python3.6/dist-packages/keras/backend/tensorflow_backend.py:216: The name tf.is_variable_initialized is deprecated. Please use tf.compat.v1.is_variable_initialized instead.\n",
      "\n",
      "WARNING:tensorflow:From /usr/local/lib/python3.6/dist-packages/keras/backend/tensorflow_backend.py:223: The name tf.variables_initializer is deprecated. Please use tf.compat.v1.variables_initializer instead.\n",
      "\n",
      " - 18s - loss: 202417905449.0166 - acc: 0.0000e+00 - val_loss: 32376137728.0000 - val_acc: 0.0000e+00\n",
      "Epoch 2/100\n",
      " - 17s - loss: 68552224292.7735 - acc: 0.0000e+00 - val_loss: 51163184364.3077 - val_acc: 0.0000e+00\n",
      "Epoch 3/100\n",
      " - 17s - loss: 65280332160.7072 - acc: 0.0000e+00 - val_loss: 38215889863.7363 - val_acc: 0.0000e+00\n",
      "Epoch 4/100\n",
      " - 17s - loss: 60880078519.8674 - acc: 0.0000e+00 - val_loss: 33646961135.1209 - val_acc: 0.0000e+00\n",
      "Epoch 5/100\n",
      " - 17s - loss: 60105968419.3591 - acc: 0.0000e+00 - val_loss: 34051730420.7473 - val_acc: 0.0000e+00\n",
      "Epoch 6/100\n",
      " - 17s - loss: 59455728125.1713 - acc: 0.0000e+00 - val_loss: 37243659320.2637 - val_acc: 0.0000e+00\n",
      "Epoch 00006: early stopping\n"
     ]
    },
    {
     "data": {
      "text/plain": [
       "<keras.callbacks.History at 0x7fb76eb5d1d0>"
      ]
     },
     "execution_count": 57,
     "metadata": {
      "tags": []
     },
     "output_type": "execute_result"
    }
   ],
   "source": [
    "model.fit([xtrain,conxtrain],ytrain,validation_data=([xtest,conxtest], ytest),verbose=2,epochs=100,callbacks=[monitor])"
   ]
  },
  {
   "cell_type": "code",
   "execution_count": 0,
   "metadata": {
    "colab": {
     "base_uri": "https://localhost:8080/",
     "height": 34
    },
    "colab_type": "code",
    "id": "e67w6KZzhJUU",
    "outputId": "3d1f1bb8-b243-4127-c4dd-c37aa6aff477"
   },
   "outputs": [
    {
     "name": "stdout",
     "output_type": "stream",
     "text": [
      "Score (RMSE): 192986.16727330833\n"
     ]
    }
   ],
   "source": [
    "pred = model.predict([xtest,conxtest])\n",
    "score = np.sqrt(metrics.mean_squared_error(pred,ytest))\n",
    "print(\"Score (RMSE): {}\".format(score))"
   ]
  },
  {
   "cell_type": "code",
   "execution_count": 0,
   "metadata": {
    "colab": {
     "base_uri": "https://localhost:8080/",
     "height": 34
    },
    "colab_type": "code",
    "id": "SP2cNdJgrd8W",
    "outputId": "f8d7005c-1052-49bf-dc82-140fc5c83242"
   },
   "outputs": [
    {
     "name": "stdout",
     "output_type": "stream",
     "text": [
      "Regression Lift Chart\n"
     ]
    }
   ],
   "source": [
    "%matplotlib inline\n",
    "import matplotlib.pyplot as plt\n",
    "print(\"Regression Lift Chart\")\n",
    "def chart_regression(pred,y,sort=True):\n",
    "    t = pd.DataFrame({'pred' : pred, 'y' : y.flatten()})\n",
    "    if sort:\n",
    "        t.sort_values(by=['y'],inplace=True)\n",
    "    a = plt.plot(t['y'].tolist(),label='expected')\n",
    "    b = plt.plot(t['pred'].tolist(),label='prediction')\n",
    "    plt.ylabel('output')\n",
    "    plt.legend()\n",
    "    plt.show()"
   ]
  },
  {
   "cell_type": "code",
   "execution_count": 0,
   "metadata": {
    "colab": {
     "base_uri": "https://localhost:8080/",
     "height": 269
    },
    "colab_type": "code",
    "id": "xf-cgllCriWA",
    "outputId": "92e65922-d576-4eab-8237-0af7286a3f05"
   },
   "outputs": [
    {
     "data": {
      "image/png": "[encoded data removed]",
      "text/plain": [
       "<Figure size 432x288 with 1 Axes>"
      ]
     },
     "metadata": {
      "tags": []
     },
     "output_type": "display_data"
    }
   ],
   "source": [
    "chart_regression(pred.flatten(),ytest)"
   ]
  }
 ],
 "metadata": {
  "colab": {
   "name": "Project3_215.ipynb",
   "provenance": []
  },
  "kernelspec": {
   "display_name": "Python 3",
   "language": "python",
   "name": "python3"
  },
  "language_info": {
   "codemirror_mode": {
    "name": "ipython",
    "version": 3
   },
   "file_extension": ".py",
   "mimetype": "text/x-python",
   "name": "python",
   "nbconvert_exporter": "python",
   "pygments_lexer": "ipython3",
   "version": "3.7.3"
  }
 },
 "nbformat": 4,
 "nbformat_minor": 1
}
